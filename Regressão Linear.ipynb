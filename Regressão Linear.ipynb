{
 "cells": [
  {
   "cell_type": "markdown",
   "id": "d577407e",
   "metadata": {},
   "source": [
    "## Método de Regressão Linear Simples\n",
    "Este programa tem como objetivo realizar o método de Regressão Linear Simples utilizando um DataFrame provisório fornecido pelo elaborador do código. Este código auxilia no aprendizado do conteúdo e desperta o interesse do usuário em aprender linguagem de programação, visto que os programas desenvolvidos podem ajudar nos problemas do dia-a-dia no mercado de trabalho."
   ]
  },
  {
   "cell_type": "markdown",
   "id": "e9539c30",
   "metadata": {},
   "source": [
    "## Importar as bibliotecas e a base de dados"
   ]
  },
  {
   "cell_type": "code",
   "execution_count": 3,
   "id": "fdf43294",
   "metadata": {},
   "outputs": [],
   "source": [
    "import numpy as np #Importar a biblioteca numpy\n",
    "import pandas as pd #Importar a biblioteca pandas\n",
    "import matplotlib.pyplot as plt #Importar a biblioteca matplotlib com o método .pyplot"
   ]
  },
  {
   "cell_type": "code",
   "execution_count": 4,
   "id": "27ffc3f6",
   "metadata": {},
   "outputs": [],
   "source": [
    "data = pd.read_excel('medida_de_absorcao.xlsx') #Importar o arquivo"
   ]
  },
  {
   "cell_type": "code",
   "execution_count": 5,
   "id": "61454ee1",
   "metadata": {},
   "outputs": [
    {
     "data": {
      "text/html": [
       "<div>\n",
       "<style scoped>\n",
       "    .dataframe tbody tr th:only-of-type {\n",
       "        vertical-align: middle;\n",
       "    }\n",
       "\n",
       "    .dataframe tbody tr th {\n",
       "        vertical-align: top;\n",
       "    }\n",
       "\n",
       "    .dataframe thead th {\n",
       "        text-align: right;\n",
       "    }\n",
       "</style>\n",
       "<table border=\"1\" class=\"dataframe\">\n",
       "  <thead>\n",
       "    <tr style=\"text-align: right;\">\n",
       "      <th></th>\n",
       "      <th>Concentração (mol/cm³)</th>\n",
       "      <th>Absorção (L/cm³)</th>\n",
       "      <th>Unnamed: 2</th>\n",
       "      <th>Unnamed: 3</th>\n",
       "      <th>Unnamed: 4</th>\n",
       "    </tr>\n",
       "  </thead>\n",
       "  <tbody>\n",
       "    <tr>\n",
       "      <th>0</th>\n",
       "      <td>1.0</td>\n",
       "      <td>0.99</td>\n",
       "      <td>NaN</td>\n",
       "      <td>NaN</td>\n",
       "      <td>NaN</td>\n",
       "    </tr>\n",
       "    <tr>\n",
       "      <th>1</th>\n",
       "      <td>1.2</td>\n",
       "      <td>1.13</td>\n",
       "      <td>NaN</td>\n",
       "      <td>NaN</td>\n",
       "      <td>NaN</td>\n",
       "    </tr>\n",
       "    <tr>\n",
       "      <th>2</th>\n",
       "      <td>1.5</td>\n",
       "      <td>1.52</td>\n",
       "      <td>NaN</td>\n",
       "      <td>NaN</td>\n",
       "      <td>NaN</td>\n",
       "    </tr>\n",
       "    <tr>\n",
       "      <th>3</th>\n",
       "      <td>1.7</td>\n",
       "      <td>1.73</td>\n",
       "      <td>NaN</td>\n",
       "      <td>NaN</td>\n",
       "      <td>NaN</td>\n",
       "    </tr>\n",
       "    <tr>\n",
       "      <th>4</th>\n",
       "      <td>2.0</td>\n",
       "      <td>1.96</td>\n",
       "      <td>NaN</td>\n",
       "      <td>NaN</td>\n",
       "      <td>NaN</td>\n",
       "    </tr>\n",
       "  </tbody>\n",
       "</table>\n",
       "</div>"
      ],
      "text/plain": [
       "   Concentração (mol/cm³)  Absorção (L/cm³)  Unnamed: 2  Unnamed: 3  \\\n",
       "0                     1.0              0.99         NaN         NaN   \n",
       "1                     1.2              1.13         NaN         NaN   \n",
       "2                     1.5              1.52         NaN         NaN   \n",
       "3                     1.7              1.73         NaN         NaN   \n",
       "4                     2.0              1.96         NaN         NaN   \n",
       "\n",
       "   Unnamed: 4  \n",
       "0         NaN  \n",
       "1         NaN  \n",
       "2         NaN  \n",
       "3         NaN  \n",
       "4         NaN  "
      ]
     },
     "execution_count": 5,
     "metadata": {},
     "output_type": "execute_result"
    }
   ],
   "source": [
    "data.head() #Visualizar as cinco primeiras linhas"
   ]
  },
  {
   "cell_type": "markdown",
   "id": "822bdd11",
   "metadata": {},
   "source": [
    "## Excluindo valores vazios e/ou não números (NaN)\n",
    "Nesta parte do código iremos excluir definitivamente as colunas com os dados vazios e/ou não números (Not a number - NaN). Lembre-se: este método somente é válido para organizar o DataFrame caso os dados não possuam a importância de serem preenchidos com outros valores. Esta etapa é opcional, dependendo do comportamento do DataFrame."
   ]
  },
  {
   "cell_type": "code",
   "execution_count": 6,
   "id": "3dd78bde",
   "metadata": {},
   "outputs": [],
   "source": [
    "data.drop(columns = ['Unnamed: 2', 'Unnamed: 3', 'Unnamed: 4'], inplace = True) #O inplace exclui as colunas definitivamente"
   ]
  },
  {
   "cell_type": "code",
   "execution_count": 7,
   "id": "6ed9b0f4",
   "metadata": {},
   "outputs": [
    {
     "data": {
      "text/html": [
       "<div>\n",
       "<style scoped>\n",
       "    .dataframe tbody tr th:only-of-type {\n",
       "        vertical-align: middle;\n",
       "    }\n",
       "\n",
       "    .dataframe tbody tr th {\n",
       "        vertical-align: top;\n",
       "    }\n",
       "\n",
       "    .dataframe thead th {\n",
       "        text-align: right;\n",
       "    }\n",
       "</style>\n",
       "<table border=\"1\" class=\"dataframe\">\n",
       "  <thead>\n",
       "    <tr style=\"text-align: right;\">\n",
       "      <th></th>\n",
       "      <th>Concentração (mol/cm³)</th>\n",
       "      <th>Absorção (L/cm³)</th>\n",
       "    </tr>\n",
       "  </thead>\n",
       "  <tbody>\n",
       "    <tr>\n",
       "      <th>0</th>\n",
       "      <td>1.0</td>\n",
       "      <td>0.99</td>\n",
       "    </tr>\n",
       "    <tr>\n",
       "      <th>1</th>\n",
       "      <td>1.2</td>\n",
       "      <td>1.13</td>\n",
       "    </tr>\n",
       "    <tr>\n",
       "      <th>2</th>\n",
       "      <td>1.5</td>\n",
       "      <td>1.52</td>\n",
       "    </tr>\n",
       "    <tr>\n",
       "      <th>3</th>\n",
       "      <td>1.7</td>\n",
       "      <td>1.73</td>\n",
       "    </tr>\n",
       "    <tr>\n",
       "      <th>4</th>\n",
       "      <td>2.0</td>\n",
       "      <td>1.96</td>\n",
       "    </tr>\n",
       "  </tbody>\n",
       "</table>\n",
       "</div>"
      ],
      "text/plain": [
       "   Concentração (mol/cm³)  Absorção (L/cm³)\n",
       "0                     1.0              0.99\n",
       "1                     1.2              1.13\n",
       "2                     1.5              1.52\n",
       "3                     1.7              1.73\n",
       "4                     2.0              1.96"
      ]
     },
     "execution_count": 7,
     "metadata": {},
     "output_type": "execute_result"
    }
   ],
   "source": [
    "data.head()"
   ]
  },
  {
   "cell_type": "markdown",
   "id": "66f06349",
   "metadata": {},
   "source": [
    "## Definindo os parâmetros X e Y para a Regressão Linear Simples\n",
    "Sabe-se que a equação da reta se dá por:\n",
    "$ Y(X) = mX + b $. Onde $ Y(X) $ é a variável de resposta, $ X $ é a variável preditora, $ m $ é o coeficiente angular e $ b $ o coeficiente linear. No DataFrame utilizado, a 'Absorção' depende da 'Concentração'. Sendo assim, Y(X) = Absorção e X = Concentração."
   ]
  },
  {
   "cell_type": "code",
   "execution_count": 8,
   "id": "165042af",
   "metadata": {},
   "outputs": [],
   "source": [
    "X = data['Concentração (mol/cm³)'].values #O parâmetro .values transforma os dados da coluna do DataFrame em um array\n",
    "Y = data['Absorção (L/cm³)'].values"
   ]
  },
  {
   "cell_type": "markdown",
   "id": "471db31d",
   "metadata": {},
   "source": [
    "## Gráfico de dispersão"
   ]
  },
  {
   "cell_type": "code",
   "execution_count": 9,
   "id": "4fb89703",
   "metadata": {},
   "outputs": [
    {
     "data": {
      "image/png": "[encoded data removed]",
      "text/plain": [
       "<Figure size 432x288 with 1 Axes>"
      ]
     },
     "metadata": {
      "needs_background": "light"
     },
     "output_type": "display_data"
    }
   ],
   "source": [
    "plt.scatter(X, Y, label = 'Pontos de dispersão'); #Gera um gráfico de dispersão\n",
    "plt.xlabel('Concentração (mol/cm³)'); #Nome do eixo X\n",
    "plt.ylabel('Absorção (L/cm³)'); #Nome do eixo Y\n",
    "plt.legend(); #Legenda do gráfico"
   ]
  },
  {
   "cell_type": "markdown",
   "id": "1d6654b9",
   "metadata": {},
   "source": [
    "## Cálculo de m e b"
   ]
  },
  {
   "attachments": {
    "equacoes.PNG": {
     "image/png": "[encoded data removed]"
    }
   },
   "cell_type": "markdown",
   "id": "7fd58e0f",
   "metadata": {},
   "source": [
    "Equações para determinar $ m $ e $ b $\n",
    "![equacoes.PNG](attachment:equacoes.PNG)"
   ]
  },
  {
   "cell_type": "code",
   "execution_count": 10,
   "id": "21511795",
   "metadata": {},
   "outputs": [],
   "source": [
    "# Calculando m\n",
    "\n",
    "media_X = np.mean(X)\n",
    "media_Y = np.mean(Y)\n",
    "erro_X = X - media_X\n",
    "erro_Y = Y - media_Y\n",
    "soma_erro_xy = np.sum(erro_X * erro_Y)\n",
    "erro_quadratico_X = (X - media_X)**2\n",
    "soma_erro_quadratico_X = np.sum(erro_quadratico_X)\n",
    "\n",
    "m = soma_erro_xy / soma_erro_quadratico_X"
   ]
  },
  {
   "cell_type": "code",
   "execution_count": 11,
   "id": "e841a281",
   "metadata": {},
   "outputs": [],
   "source": [
    "# Calculando b\n",
    "\n",
    "b = media_Y - m * media_X"
   ]
  },
  {
   "cell_type": "markdown",
   "id": "826058b4",
   "metadata": {},
   "source": [
    "## Calculando Y(X) = mX + b"
   ]
  },
  {
   "cell_type": "code",
   "execution_count": 12,
   "id": "e8861346",
   "metadata": {},
   "outputs": [],
   "source": [
    "Y_X = m*X + b"
   ]
  },
  {
   "cell_type": "markdown",
   "id": "09773620",
   "metadata": {},
   "source": [
    "## Cálculo do Erro Absoluto médio e Erro Quadrático Médio"
   ]
  },
  {
   "cell_type": "code",
   "execution_count": 13,
   "id": "05369928",
   "metadata": {},
   "outputs": [],
   "source": [
    "from sklearn.metrics import mean_absolute_error, mean_squared_error\n",
    "\n",
    "erro_abs_medio = mean_absolute_error(Y, Y_X)\n",
    "erro_quad_medio = np.sqrt(mean_squared_error(Y, Y_X))"
   ]
  },
  {
   "cell_type": "markdown",
   "id": "221252c3",
   "metadata": {},
   "source": [
    "## Gráfico da reta ajustada"
   ]
  },
  {
   "cell_type": "code",
   "execution_count": 60,
   "id": "62c7f5b3",
   "metadata": {},
   "outputs": [
    {
     "name": "stdout",
     "output_type": "stream",
     "text": [
      "Coeficiente angular: 1.00073 \n",
      "\n",
      "Coeficiente linear: -0.02260 \n",
      "\n",
      "Equação da reta: Y(X) = 1.00073X -0.02260 \n",
      "\n",
      "Erro Absoluto Médio: 0.04312 \n",
      "\n",
      "Erro Quadrático Médio: 0.06196 \n",
      "\n"
     ]
    },
    {
     "data": {
      "image/png": "[encoded data removed]",
      "text/plain": [
       "<Figure size 432x288 with 1 Axes>"
      ]
     },
     "metadata": {
      "needs_background": "light"
     },
     "output_type": "display_data"
    }
   ],
   "source": [
    "plt.scatter(X, Y, label = 'Pontos de dispersão');\n",
    "plt.plot(X, Y_X, label = 'Ajuste Linear', color = 'red');\n",
    "plt.xlabel('Concentração (mol/cm³)');\n",
    "plt.ylabel('Absorção (L/cm³)');\n",
    "plt.legend();\n",
    "\n",
    "print(f'Coeficiente angular: {m:.5f} \\n')\n",
    "print(f'Coeficiente linear: {b:.5f} \\n')\n",
    "print(f'Equação da reta: Y(X) = {m:.5f}X {b:.5f} \\n')\n",
    "print(f'Erro Absoluto Médio: {erro_abs_medio:.5f} \\n')\n",
    "print(f'Erro Quadrático Médio: {erro_quad_medio:.5f} \\n')"
   ]
  },
  {
   "cell_type": "code",
   "execution_count": null,
   "id": "c7540af4",
   "metadata": {},
   "outputs": [],
   "source": []
  }
 ],
 "metadata": {
  "kernelspec": {
   "display_name": "Python 3",
   "language": "python",
   "name": "python3"
  },
  "language_info": {
   "codemirror_mode": {
    "name": "ipython",
    "version": 3
   },
   "file_extension": ".py",
   "mimetype": "text/x-python",
   "name": "python",
   "nbconvert_exporter": "python",
   "pygments_lexer": "ipython3",
   "version": "3.8.8"
  }
 },
 "nbformat": 4,
 "nbformat_minor": 5
}
